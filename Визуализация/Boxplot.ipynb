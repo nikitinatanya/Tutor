{
 "cells": [
  {
   "cell_type": "markdown",
   "id": "7f1cf337-2eb1-4aa2-9e89-9fe1061433c4",
   "metadata": {},
   "source": [
    "# Построение графика boxplot"
   ]
  },
  {
   "cell_type": "markdown",
   "id": "b3233f52-39ac-454d-afb2-b77c8c87da87",
   "metadata": {},
   "source": [
    "Для визуальной оценки характеристик распределения используем тип графика boxplot.   \n",
    "Построить boxplot можно используя разные библиотеки:  \n",
    "- [Pandas](https://pandas.pydata.org/docs/reference/api/pandas.DataFrame.boxplot.html)  \n",
    "- [Matplotlib](https://matplotlib.org/stable/api/_as_gen/matplotlib.pyplot.boxplot.html#matplotlib.pyplot.boxplot)  \n",
    "- [Seaborn](https://seaborn.pydata.org/generated/seaborn.boxplot.html)"
   ]
  },
  {
   "cell_type": "markdown",
   "id": "2676b397-8eb8-4de3-b8c7-334b68711d2a",
   "metadata": {},
   "source": [
    "Первые две библиотеки рассмотрены в уроке \"Диаграмма размаха в Python\" (тема \"Первые графики и выводы\", спринт 3 \"Исследовательский анализ данных\"). Остановлюсь на Seaborn."
   ]
  },
  {
   "cell_type": "code",
   "execution_count": 1,
   "id": "eb6b96f5-d577-488e-9b21-ab928b209a01",
   "metadata": {},
   "outputs": [],
   "source": [
    "# импорт библиотек\n",
    "import pandas as pd\n",
    "import seaborn as sns\n",
    "from matplotlib import pyplot as plt"
   ]
  },
  {
   "cell_type": "code",
   "execution_count": 2,
   "id": "90bea5ff-9883-46bc-bb06-44fa44e08047",
   "metadata": {},
   "outputs": [],
   "source": [
    "sns.set_palette('dark')"
   ]
  },
  {
   "cell_type": "markdown",
   "id": "7fc9cac6-ee04-4c83-8c8e-c7d8ab19ce62",
   "metadata": {},
   "source": [
    "[Базовый синтаксис при построении графика](https://seaborn.pydata.org/generated/seaborn.boxplot.html):  \n",
    "```seaborn.boxplot(*, x=None, y=None, hue=None, data=None, order=None, hue_order=None, orient=None, color=None, palette=None, saturation=0.75, width=0.8, dodge=True, fliersize=5, linewidth=None, whis=1.5, ax=None, **kwargs)```"
   ]
  },
  {
   "cell_type": "markdown",
   "id": "dd851603-358d-45e9-82c8-2da76469df01",
   "metadata": {},
   "source": [
    "Рассмотрим основные параметры:"
   ]
  },
  {
   "cell_type": "markdown",
   "id": "2f8ec384-d0c0-41a9-97ca-3d9d0c377809",
   "metadata": {},
   "source": [
    "`x`, `y`, `hue` - переменные или одномерный список, исходные данные для построения графика, необязательный параметр.  \n",
    "`data` - датафрейм, массив или список массивов. Датасет для построения графика, необязательный параметр.  \n",
    "`orient` - принимает знечение \"v\" или \"h\". Ориентация boxplot - вертикальная (v) или горизонтальная (h), необязательный параметр.  \n",
    "`color` - matplotlib цвет. Определяет цвет boxplot, необязательный параметр.  \n",
    "`palette` - наименование палитры, список или словарь, необязательный параметр.   \n",
    "`ax` - оси matplotlib, где будет рисоваться график, по умолчанию - в текущих осях.   \n"
   ]
  },
  {
   "cell_type": "code",
   "execution_count": 3,
   "id": "9316bff9-1fc3-4338-9d1e-7b1c82f2b293",
   "metadata": {},
   "outputs": [],
   "source": [
    "df_tips = sns.load_dataset('tips')                                                     # загрузка датасета о чаевых"
   ]
  },
  {
   "cell_type": "code",
   "execution_count": 4,
   "id": "c4ed7732-ee88-45c2-9a92-a98e8bd5e5b3",
   "metadata": {},
   "outputs": [
    {
     "name": "stdout",
     "output_type": "stream",
     "text": [
      "<class 'pandas.core.frame.DataFrame'>\n",
      "RangeIndex: 244 entries, 0 to 243\n",
      "Data columns (total 7 columns):\n",
      " #   Column      Non-Null Count  Dtype   \n",
      "---  ------      --------------  -----   \n",
      " 0   total_bill  244 non-null    float64 \n",
      " 1   tip         244 non-null    float64 \n",
      " 2   sex         244 non-null    category\n",
      " 3   smoker      244 non-null    category\n",
      " 4   day         244 non-null    category\n",
      " 5   time        244 non-null    category\n",
      " 6   size        244 non-null    int64   \n",
      "dtypes: category(4), float64(2), int64(1)\n",
      "memory usage: 7.4 KB\n"
     ]
    }
   ],
   "source": [
    "df_tips.info()                                                                        # информация о датасете"
   ]
  },
  {
   "cell_type": "code",
   "execution_count": 5,
   "id": "3dd84cf4-b446-46dc-8011-41e6109e56c7",
   "metadata": {},
   "outputs": [
    {
     "data": {
      "text/html": [
       "<div>\n",
       "<style scoped>\n",
       "    .dataframe tbody tr th:only-of-type {\n",
       "        vertical-align: middle;\n",
       "    }\n",
       "\n",
       "    .dataframe tbody tr th {\n",
       "        vertical-align: top;\n",
       "    }\n",
       "\n",
       "    .dataframe thead th {\n",
       "        text-align: right;\n",
       "    }\n",
       "</style>\n",
       "<table border=\"1\" class=\"dataframe\">\n",
       "  <thead>\n",
       "    <tr style=\"text-align: right;\">\n",
       "      <th></th>\n",
       "      <th>total_bill</th>\n",
       "      <th>tip</th>\n",
       "      <th>sex</th>\n",
       "      <th>smoker</th>\n",
       "      <th>day</th>\n",
       "      <th>time</th>\n",
       "      <th>size</th>\n",
       "    </tr>\n",
       "  </thead>\n",
       "  <tbody>\n",
       "    <tr>\n",
       "      <th>0</th>\n",
       "      <td>16.99</td>\n",
       "      <td>1.01</td>\n",
       "      <td>Female</td>\n",
       "      <td>No</td>\n",
       "      <td>Sun</td>\n",
       "      <td>Dinner</td>\n",
       "      <td>2</td>\n",
       "    </tr>\n",
       "    <tr>\n",
       "      <th>1</th>\n",
       "      <td>10.34</td>\n",
       "      <td>1.66</td>\n",
       "      <td>Male</td>\n",
       "      <td>No</td>\n",
       "      <td>Sun</td>\n",
       "      <td>Dinner</td>\n",
       "      <td>3</td>\n",
       "    </tr>\n",
       "    <tr>\n",
       "      <th>2</th>\n",
       "      <td>21.01</td>\n",
       "      <td>3.50</td>\n",
       "      <td>Male</td>\n",
       "      <td>No</td>\n",
       "      <td>Sun</td>\n",
       "      <td>Dinner</td>\n",
       "      <td>3</td>\n",
       "    </tr>\n",
       "    <tr>\n",
       "      <th>3</th>\n",
       "      <td>23.68</td>\n",
       "      <td>3.31</td>\n",
       "      <td>Male</td>\n",
       "      <td>No</td>\n",
       "      <td>Sun</td>\n",
       "      <td>Dinner</td>\n",
       "      <td>2</td>\n",
       "    </tr>\n",
       "    <tr>\n",
       "      <th>4</th>\n",
       "      <td>24.59</td>\n",
       "      <td>3.61</td>\n",
       "      <td>Female</td>\n",
       "      <td>No</td>\n",
       "      <td>Sun</td>\n",
       "      <td>Dinner</td>\n",
       "      <td>4</td>\n",
       "    </tr>\n",
       "  </tbody>\n",
       "</table>\n",
       "</div>"
      ],
      "text/plain": [
       "   total_bill   tip     sex smoker  day    time  size\n",
       "0       16.99  1.01  Female     No  Sun  Dinner     2\n",
       "1       10.34  1.66    Male     No  Sun  Dinner     3\n",
       "2       21.01  3.50    Male     No  Sun  Dinner     3\n",
       "3       23.68  3.31    Male     No  Sun  Dinner     2\n",
       "4       24.59  3.61  Female     No  Sun  Dinner     4"
      ]
     },
     "execution_count": 5,
     "metadata": {},
     "output_type": "execute_result"
    }
   ],
   "source": [
    "df_tips.head()                                                                           # вывод части датасета"
   ]
  },
  {
   "cell_type": "code",
   "execution_count": 6,
   "id": "29f6d7a0-d008-48a4-9f8d-ea59aa838b51",
   "metadata": {},
   "outputs": [
    {
     "data": {
      "image/png": "[encoded data removed]",
      "text/plain": [
       "<Figure size 1152x288 with 1 Axes>"
      ]
     },
     "metadata": {
      "needs_background": "light"
     },
     "output_type": "display_data"
    }
   ],
   "source": [
    "plt.figure(figsize=(16,4))                                                                # размер объекта\n",
    "sns.boxplot(x=\"total_bill\", data=df_tips, color = 'darkgreen')                            # построение boxplot\n",
    "plt.title('Диаграмма размаха суммы счета', fontsize=20)                                   # наименование диаграммы\n",
    "plt.show()"
   ]
  },
  {
   "cell_type": "code",
   "execution_count": 7,
   "id": "019259e9-c18e-43ea-83b2-a675d8d5aed9",
   "metadata": {},
   "outputs": [
    {
     "data": {
      "image/png": "[encoded data removed]",
      "text/plain": [
       "<Figure size 720x576 with 1 Axes>"
      ]
     },
     "metadata": {
      "needs_background": "light"
     },
     "output_type": "display_data"
    }
   ],
   "source": [
    "plt.figure(figsize=(10,8))                                                         # размер объекта\n",
    "sns.boxplot(x=\"day\", y=\"total_bill\", data=df_tips)                                 # построение boxplot\n",
    "plt.xlabel('День')                                                                 # подпись оси x\n",
    "plt.ylabel('Счет')                                                                 # подпись оси y\n",
    "plt.title('Диаграммы размаха суммы счета по дням недели', fontsize=20)             # наименование диаграммы\n",
    "plt.show()"
   ]
  },
  {
   "cell_type": "code",
   "execution_count": 8,
   "id": "d3d2e300-ef89-4d19-b061-db37feef8ead",
   "metadata": {},
   "outputs": [
    {
     "data": {
      "image/png": "[encoded data removed]",
      "text/plain": [
       "<Figure size 1152x576 with 1 Axes>"
      ]
     },
     "metadata": {
      "needs_background": "light"
     },
     "output_type": "display_data"
    }
   ],
   "source": [
    "plt.figure(figsize=(16,8))                                                                                          # размер объекта\n",
    "\n",
    "sns.boxplot(x=\"day\", y=\"total_bill\",\n",
    "            hue=\"smoker\", palette=[\"midnightblue\", \"brown\"],\n",
    "            data=df_tips)\n",
    "\n",
    "plt.xlabel('День')                                                                                                  # подпись оси x\n",
    "plt.ylabel('Счет')                                                                                                  # подпись оси y\n",
    "plt.title('Диаграммы размаха суммы счета в разрезе дней недели для курящих и некурящих', fontsize=20)               # наименование диаграммы\n",
    "plt.show()"
   ]
  },
  {
   "cell_type": "code",
   "execution_count": null,
   "id": "1f36caf6-38d0-4fce-af6d-fa7f598e7cf1",
   "metadata": {},
   "outputs": [],
   "source": []
  }
 ],
 "metadata": {
  "kernelspec": {
   "display_name": "Python 3",
   "language": "python",
   "name": "python3"
  },
  "language_info": {
   "codemirror_mode": {
    "name": "ipython",
    "version": 3
   },
   "file_extension": ".py",
   "mimetype": "text/x-python",
   "name": "python",
   "nbconvert_exporter": "python",
   "pygments_lexer": "ipython3",
   "version": "3.8.8"
  }
 },
 "nbformat": 4,
 "nbformat_minor": 5
}
